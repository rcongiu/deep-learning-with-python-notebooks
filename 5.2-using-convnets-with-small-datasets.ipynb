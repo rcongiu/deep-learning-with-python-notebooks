{
 "cells": [
  {
   "cell_type": "code",
   "execution_count": 1,
   "metadata": {
    "collapsed": false
   },
   "outputs": [
    {
     "name": "stderr",
     "output_type": "stream",
     "text": [
      "Using TensorFlow backend.\n"
     ]
    },
    {
     "data": {
      "text/plain": [
       "'2.2.4'"
      ]
     },
     "execution_count": 1,
     "metadata": {},
     "output_type": "execute_result"
    }
   ],
   "source": [
    "import keras\n",
    "keras.__version__"
   ]
  },
  {
   "cell_type": "markdown",
   "metadata": {},
   "source": [
    "# 5.2 - Using convnets with small datasets\n",
    "\n",
    "This notebook contains the code sample found in Chapter 5, Section 2 of [Deep Learning with Python](https://www.manning.com/books/deep-learning-with-python?a_aid=keras&a_bid=76564dff). Note that the original text features far more content, in particular further explanations and figures: in this notebook, you will only find source code and related comments.\n",
    "\n",
    "## Training a convnet from scratch on a small dataset\n",
    "\n",
    "Having to train an image classification model using only very little data is a common situation, which you likely encounter yourself in \n",
    "practice if you ever do computer vision in a professional context.\n",
    "\n",
    "Having \"few\" samples can mean anywhere from a few hundreds to a few tens of thousands of images. As a practical example, we will focus on \n",
    "classifying images as \"dogs\" or \"cats\", in a dataset containing 4000 pictures of cats and dogs (2000 cats, 2000 dogs). We will use 2000 \n",
    "pictures for training, 1000 for validation, and finally 1000 for testing.\n",
    "\n",
    "In this section, we will review one basic strategy to tackle this problem: training a new model from scratch on what little data we have. We \n",
    "will start by naively training a small convnet on our 2000 training samples, without any regularization, to set a baseline for what can be \n",
    "achieved. This will get us to a classification accuracy of 71%. At that point, our main issue will be overfitting. Then we will introduce \n",
    "*data augmentation*, a powerful technique for mitigating overfitting in computer vision. By leveraging data augmentation, we will improve \n",
    "our network to reach an accuracy of 82%.\n",
    "\n",
    "In the next section, we will review two more essential techniques for applying deep learning to small datasets: *doing feature extraction \n",
    "with a pre-trained network* (this will get us to an accuracy of 90% to 93%), and *fine-tuning a pre-trained network* (this will get us to \n",
    "our final accuracy of 95%). Together, these three strategies -- training a small model from scratch, doing feature extracting using a \n",
    "pre-trained model, and fine-tuning a pre-trained model -- will constitute your future toolbox for tackling the problem of doing computer \n",
    "vision with small datasets."
   ]
  },
  {
   "cell_type": "markdown",
   "metadata": {},
   "source": [
    "## The relevance of deep learning for small-data problems\n",
    "\n",
    "You will sometimes hear that deep learning only works when lots of data is available. This is in part a valid point: one fundamental \n",
    "characteristic of deep learning is that it is able to find interesting features in the training data on its own, without any need for manual \n",
    "feature engineering, and this can only be achieved when lots of training examples are available. This is especially true for problems where \n",
    "the input samples are very high-dimensional, like images.\n",
    "\n",
    "However, what constitutes \"lots\" of samples is relative -- relative to the size and depth of the network you are trying to train, for \n",
    "starters. It isn't possible to train a convnet to solve a complex problem with just a few tens of samples, but a few hundreds can \n",
    "potentially suffice if the model is small and well-regularized and if the task is simple. \n",
    "Because convnets learn local, translation-invariant features, they are very \n",
    "data-efficient on perceptual problems. Training a convnet from scratch on a very small image dataset will still yield reasonable results \n",
    "despite a relative lack of data, without the need for any custom feature engineering. You will see this in action in this section.\n",
    "\n",
    "But what's more, deep learning models are by nature highly repurposable: you can take, say, an image classification or speech-to-text model \n",
    "trained on a large-scale dataset then reuse it on a significantly different problem with only minor changes. Specifically, in the case of \n",
    "computer vision, many pre-trained models (usually trained on the ImageNet dataset) are now publicly available for download and can be used \n",
    "to bootstrap powerful vision models out of very little data. That's what we will do in the next section.\n",
    "\n",
    "For now, let's get started by getting our hands on the data."
   ]
  },
  {
   "cell_type": "markdown",
   "metadata": {},
   "source": [
    "## Downloading the data\n",
    "\n",
    "The cats vs. dogs dataset that we will use isn't packaged with Keras. It was made available by Kaggle.com as part of a computer vision \n",
    "competition in late 2013, back when convnets weren't quite mainstream. You can download the original dataset at: \n",
    "`https://www.kaggle.com/c/dogs-vs-cats/data` (you will need to create a Kaggle account if you don't already have one -- don't worry, the \n",
    "process is painless).\n",
    "\n",
    "The pictures are medium-resolution color JPEGs. They look like this:\n",
    "\n",
    "![cats_vs_dogs_samples](https://s3.amazonaws.com/book.keras.io/img/ch5/cats_vs_dogs_samples.jpg)"
   ]
  },
  {
   "cell_type": "markdown",
   "metadata": {},
   "source": [
    "Unsurprisingly, the cats vs. dogs Kaggle competition in 2013 was won by entrants who used convnets. The best entries could achieve up to \n",
    "95% accuracy. In our own example, we will get fairly close to this accuracy (in the next section), even though we will be training our \n",
    "models on less than 10% of the data that was available to the competitors.\n",
    "This original dataset contains 25,000 images of dogs and cats (12,500 from each class) and is 543MB large (compressed). After downloading \n",
    "and uncompressing it, we will create a new dataset containing three subsets: a training set with 1000 samples of each class, a validation \n",
    "set with 500 samples of each class, and finally a test set with 500 samples of each class.\n",
    "\n",
    "Here are a few lines of code to do this:"
   ]
  },
  {
   "cell_type": "code",
   "execution_count": 2,
   "metadata": {
    "collapsed": true
   },
   "outputs": [],
   "source": [
    "import os, shutil"
   ]
  },
  {
   "cell_type": "code",
   "execution_count": 3,
   "metadata": {
    "collapsed": false
   },
   "outputs": [],
   "source": [
    "# The path to the directory where the original\n",
    "# dataset was uncompressed\n",
    "original_dataset_dir = '/Users/nuvol/Downloads/kaggle_original_data/train/train'\n",
    "\n",
    "# The directory where we will\n",
    "# store our smaller dataset\n",
    "base_dir = '/Users/nuvol/Downloads/cats_and_dogs_small'\n",
    "if not os.path.exists(base_dir):\n",
    "    os.mkdir(base_dir)\n",
    "\n",
    "# Directories for our training,\n",
    "# validation and test splits\n",
    "train_dir = os.path.join(base_dir, 'train')\n",
    "if not os.path.exists(train_dir):\n",
    "    os.mkdir(train_dir)\n",
    "validation_dir = os.path.join(base_dir, 'validation')\n",
    "if not os.path.exists(validation_dir):\n",
    "    os.mkdir(validation_dir)\n",
    "test_dir = os.path.join(base_dir, 'test')\n",
    "if not os.path.exists(test_dir):\n",
    "    os.mkdir(test_dir)\n",
    "\n",
    "# Directory with our training cat pictures\n",
    "train_cats_dir = os.path.join(train_dir, 'cats')\n",
    "train_dogs_dir = os.path.join(train_dir, 'dogs')\n",
    "validation_cats_dir = os.path.join(validation_dir, 'cats')\n",
    "validation_dogs_dir = os.path.join(validation_dir, 'dogs')\n",
    "test_cats_dir = os.path.join(test_dir, 'cats')\n",
    "test_dogs_dir = os.path.join(test_dir, 'dogs')\n",
    "\n",
    "for d in [train_cats_dir, train_dogs_dir, validation_cats_dir,\n",
    "          validation_dogs_dir,test_cats_dir,test_dogs_dir]:\n",
    "    if(not os.path.exists(d)):\n",
    "        os.mkdir(d)\n",
    "\n",
    "\n",
    "# Copy first 1000 cat images to train_cats_dir\n",
    "fnames = ['cat.{}.jpg'.format(i) for i in range(1000)]\n",
    "for fname in fnames:\n",
    "    src = os.path.join(original_dataset_dir, fname)\n",
    "    dst = os.path.join(train_cats_dir, fname)\n",
    "    if(not os.path.exists(dst)):\n",
    "        shutil.copyfile(src, dst)\n",
    "\n",
    "# Copy next 500 cat images to validation_cats_dir\n",
    "fnames = ['cat.{}.jpg'.format(i) for i in range(1000, 1500)]\n",
    "for fname in fnames:\n",
    "    src = os.path.join(original_dataset_dir, fname)\n",
    "    dst = os.path.join(validation_cats_dir, fname)\n",
    "    if(not os.path.exists(dst)):\n",
    "        shutil.copyfile(src, dst)\n",
    "    \n",
    "# Copy next 500 cat images to test_cats_dir\n",
    "fnames = ['cat.{}.jpg'.format(i) for i in range(1500, 2000)]\n",
    "for fname in fnames:\n",
    "    src = os.path.join(original_dataset_dir, fname)\n",
    "    dst = os.path.join(test_cats_dir, fname)\n",
    "    shutil.copyfile(src, dst)\n",
    "    \n",
    "# Copy first 1000 dog images to train_dogs_dir\n",
    "fnames = ['dog.{}.jpg'.format(i) for i in range(1000)]\n",
    "for fname in fnames:\n",
    "    src = os.path.join(original_dataset_dir, fname)\n",
    "    dst = os.path.join(train_dogs_dir, fname)\n",
    "    if(not os.path.exists(dst)):\n",
    "        shutil.copyfile(src, dst)\n",
    "    \n",
    "# Copy next 500 dog images to validation_dogs_dir\n",
    "fnames = ['dog.{}.jpg'.format(i) for i in range(1000, 1500)]\n",
    "for fname in fnames:\n",
    "    src = os.path.join(original_dataset_dir, fname)\n",
    "    dst = os.path.join(validation_dogs_dir, fname)\n",
    "    if(not os.path.exists(dst)):\n",
    "        shutil.copyfile(src, dst)\n",
    "    \n",
    "# Copy next 500 dog images to test_dogs_dir\n",
    "fnames = ['dog.{}.jpg'.format(i) for i in range(1500, 2000)]\n",
    "for fname in fnames:\n",
    "    src = os.path.join(original_dataset_dir, fname)\n",
    "    dst = os.path.join(test_dogs_dir, fname)\n",
    "    if(not os.path.exists(dst)):\n",
    "        shutil.copyfile(src, dst)"
   ]
  },
  {
   "cell_type": "markdown",
   "metadata": {},
   "source": [
    "As a sanity check, let's count how many pictures we have in each training split (train/validation/test):"
   ]
  },
  {
   "cell_type": "code",
   "execution_count": 4,
   "metadata": {
    "collapsed": false
   },
   "outputs": [
    {
     "name": "stdout",
     "output_type": "stream",
     "text": [
      "total training cat images: 1000\n"
     ]
    }
   ],
   "source": [
    "print('total training cat images:', len(os.listdir(train_cats_dir)))"
   ]
  },
  {
   "cell_type": "code",
   "execution_count": 5,
   "metadata": {
    "collapsed": false
   },
   "outputs": [
    {
     "name": "stdout",
     "output_type": "stream",
     "text": [
      "total training dog images: 1000\n"
     ]
    }
   ],
   "source": [
    "print('total training dog images:', len(os.listdir(train_dogs_dir)))"
   ]
  },
  {
   "cell_type": "code",
   "execution_count": 6,
   "metadata": {
    "collapsed": false
   },
   "outputs": [
    {
     "name": "stdout",
     "output_type": "stream",
     "text": [
      "total validation cat images: 500\n"
     ]
    }
   ],
   "source": [
    "print('total validation cat images:', len(os.listdir(validation_cats_dir)))"
   ]
  },
  {
   "cell_type": "code",
   "execution_count": 7,
   "metadata": {
    "collapsed": false
   },
   "outputs": [
    {
     "name": "stdout",
     "output_type": "stream",
     "text": [
      "total validation dog images: 500\n"
     ]
    }
   ],
   "source": [
    "print('total validation dog images:', len(os.listdir(validation_dogs_dir)))"
   ]
  },
  {
   "cell_type": "code",
   "execution_count": 8,
   "metadata": {
    "collapsed": false
   },
   "outputs": [
    {
     "name": "stdout",
     "output_type": "stream",
     "text": [
      "total test cat images: 500\n"
     ]
    }
   ],
   "source": [
    "print('total test cat images:', len(os.listdir(test_cats_dir)))"
   ]
  },
  {
   "cell_type": "code",
   "execution_count": 9,
   "metadata": {
    "collapsed": false
   },
   "outputs": [
    {
     "name": "stdout",
     "output_type": "stream",
     "text": [
      "total test dog images: 500\n"
     ]
    }
   ],
   "source": [
    "print('total test dog images:', len(os.listdir(test_dogs_dir)))"
   ]
  },
  {
   "cell_type": "markdown",
   "metadata": {},
   "source": [
    "\n",
    "So we have indeed 2000 training images, and then 1000 validation images and 1000 test images. In each split, there is the same number of \n",
    "samples from each class: this is a balanced binary classification problem, which means that classification accuracy will be an appropriate \n",
    "measure of success."
   ]
  },
  {
   "cell_type": "markdown",
   "metadata": {},
   "source": [
    "## Building our network\n",
    "\n",
    "We've already built a small convnet for MNIST in the previous example, so you should be familiar with them. We will reuse the same \n",
    "general structure: our convnet will be a stack of alternated `Conv2D` (with `relu` activation) and `MaxPooling2D` layers.\n",
    "\n",
    "However, since we are dealing with bigger images and a more complex problem, we will make our network accordingly larger: it will have one \n",
    "more `Conv2D` + `MaxPooling2D` stage. This serves both to augment the capacity of the network, and to further reduce the size of the \n",
    "feature maps, so that they aren't overly large when we reach the `Flatten` layer. Here, since we start from inputs of size 150x150 (a \n",
    "somewhat arbitrary choice), we end up with feature maps of size 7x7 right before the `Flatten` layer.\n",
    "\n",
    "Note that the depth of the feature maps is progressively increasing in the network (from 32 to 128), while the size of the feature maps is \n",
    "decreasing (from 148x148 to 7x7). This is a pattern that you will see in almost all convnets.\n",
    "\n",
    "Since we are attacking a binary classification problem, we are ending the network with a single unit (a `Dense` layer of size 1) and a \n",
    "`sigmoid` activation. This unit will encode the probability that the network is looking at one class or the other."
   ]
  },
  {
   "cell_type": "code",
   "execution_count": 10,
   "metadata": {
    "collapsed": true
   },
   "outputs": [],
   "source": [
    "from keras import layers\n",
    "from keras import models\n",
    "\n",
    "model = models.Sequential()\n",
    "model.add(layers.Conv2D(32, (3, 3), activation='relu',\n",
    "                        input_shape=(150, 150, 3)))\n",
    "model.add(layers.MaxPooling2D((2, 2)))\n",
    "model.add(layers.Conv2D(64, (3, 3), activation='relu'))\n",
    "model.add(layers.MaxPooling2D((2, 2)))\n",
    "model.add(layers.Conv2D(128, (3, 3), activation='relu'))\n",
    "model.add(layers.MaxPooling2D((2, 2)))\n",
    "model.add(layers.Conv2D(128, (3, 3), activation='relu'))\n",
    "model.add(layers.MaxPooling2D((2, 2)))\n",
    "model.add(layers.Flatten())\n",
    "model.add(layers.Dense(512, activation='relu'))\n",
    "model.add(layers.Dense(1, activation='sigmoid'))"
   ]
  },
  {
   "cell_type": "markdown",
   "metadata": {},
   "source": [
    "Let's take a look at how the dimensions of the feature maps change with every successive layer:"
   ]
  },
  {
   "cell_type": "code",
   "execution_count": 11,
   "metadata": {
    "collapsed": false
   },
   "outputs": [
    {
     "name": "stdout",
     "output_type": "stream",
     "text": [
      "_________________________________________________________________\n",
      "Layer (type)                 Output Shape              Param #   \n",
      "=================================================================\n",
      "conv2d_1 (Conv2D)            (None, 148, 148, 32)      896       \n",
      "_________________________________________________________________\n",
      "max_pooling2d_1 (MaxPooling2 (None, 74, 74, 32)        0         \n",
      "_________________________________________________________________\n",
      "conv2d_2 (Conv2D)            (None, 72, 72, 64)        18496     \n",
      "_________________________________________________________________\n",
      "max_pooling2d_2 (MaxPooling2 (None, 36, 36, 64)        0         \n",
      "_________________________________________________________________\n",
      "conv2d_3 (Conv2D)            (None, 34, 34, 128)       73856     \n",
      "_________________________________________________________________\n",
      "max_pooling2d_3 (MaxPooling2 (None, 17, 17, 128)       0         \n",
      "_________________________________________________________________\n",
      "conv2d_4 (Conv2D)            (None, 15, 15, 128)       147584    \n",
      "_________________________________________________________________\n",
      "max_pooling2d_4 (MaxPooling2 (None, 7, 7, 128)         0         \n",
      "_________________________________________________________________\n",
      "flatten_1 (Flatten)          (None, 6272)              0         \n",
      "_________________________________________________________________\n",
      "dense_1 (Dense)              (None, 512)               3211776   \n",
      "_________________________________________________________________\n",
      "dense_2 (Dense)              (None, 1)                 513       \n",
      "=================================================================\n",
      "Total params: 3,453,121\n",
      "Trainable params: 3,453,121\n",
      "Non-trainable params: 0\n",
      "_________________________________________________________________\n"
     ]
    }
   ],
   "source": [
    "model.summary()"
   ]
  },
  {
   "cell_type": "markdown",
   "metadata": {},
   "source": [
    "For our compilation step, we'll go with the `RMSprop` optimizer as usual. Since we ended our network with a single sigmoid unit, we will \n",
    "use binary crossentropy as our loss (as a reminder, check out the table in Chapter 4, section 5 for a cheatsheet on what loss function to \n",
    "use in various situations)."
   ]
  },
  {
   "cell_type": "code",
   "execution_count": 12,
   "metadata": {
    "collapsed": true
   },
   "outputs": [],
   "source": [
    "from keras import optimizers\n",
    "\n",
    "model.compile(loss='binary_crossentropy',\n",
    "              optimizer=optimizers.RMSprop(lr=1e-4),\n",
    "              metrics=['acc'])"
   ]
  },
  {
   "cell_type": "markdown",
   "metadata": {},
   "source": [
    "## Data preprocessing\n",
    "\n",
    "As you already know by now, data should be formatted into appropriately pre-processed floating point tensors before being fed into our \n",
    "network. Currently, our data sits on a drive as JPEG files, so the steps for getting it into our network are roughly:\n",
    "\n",
    "* Read the picture files.\n",
    "* Decode the JPEG content to RBG grids of pixels.\n",
    "* Convert these into floating point tensors.\n",
    "* Rescale the pixel values (between 0 and 255) to the [0, 1] interval (as you know, neural networks prefer to deal with small input values).\n",
    "\n",
    "It may seem a bit daunting, but thankfully Keras has utilities to take care of these steps automatically. Keras has a module with image \n",
    "processing helper tools, located at `keras.preprocessing.image`. In particular, it contains the class `ImageDataGenerator` which allows to \n",
    "quickly set up Python generators that can automatically turn image files on disk into batches of pre-processed tensors. This is what we \n",
    "will use here."
   ]
  },
  {
   "cell_type": "code",
   "execution_count": 13,
   "metadata": {
    "collapsed": false
   },
   "outputs": [
    {
     "name": "stdout",
     "output_type": "stream",
     "text": [
      "Found 2000 images belonging to 2 classes.\n",
      "Found 1000 images belonging to 2 classes.\n"
     ]
    }
   ],
   "source": [
    "from keras.preprocessing.image import ImageDataGenerator\n",
    "\n",
    "# All images will be rescaled by 1./255\n",
    "train_datagen = ImageDataGenerator(rescale=1./255)\n",
    "test_datagen = ImageDataGenerator(rescale=1./255)\n",
    "\n",
    "train_generator = train_datagen.flow_from_directory(\n",
    "        # This is the target directory\n",
    "        train_dir,\n",
    "        # All images will be resized to 150x150\n",
    "        target_size=(150, 150),\n",
    "        batch_size=20,\n",
    "        # Since we use binary_crossentropy loss, we need binary labels\n",
    "        class_mode='binary')\n",
    "\n",
    "validation_generator = test_datagen.flow_from_directory(\n",
    "        validation_dir,\n",
    "        target_size=(150, 150),\n",
    "        batch_size=20,\n",
    "        class_mode='binary')"
   ]
  },
  {
   "cell_type": "markdown",
   "metadata": {},
   "source": [
    "Let's take a look at the output of one of these generators: it yields batches of 150x150 RGB images (shape `(20, 150, 150, 3)`) and binary \n",
    "labels (shape `(20,)`). 20 is the number of samples in each batch (the batch size). Note that the generator yields these batches \n",
    "indefinitely: it just loops endlessly over the images present in the target folder. For this reason, we need to `break` the iteration loop \n",
    "at some point."
   ]
  },
  {
   "cell_type": "code",
   "execution_count": 14,
   "metadata": {
    "collapsed": false,
    "scrolled": true
   },
   "outputs": [
    {
     "name": "stdout",
     "output_type": "stream",
     "text": [
      "data batch shape: (20, 150, 150, 3)\n",
      "labels batch shape: (20,)\n"
     ]
    }
   ],
   "source": [
    "for data_batch, labels_batch in train_generator:\n",
    "    print('data batch shape:', data_batch.shape)\n",
    "    print('labels batch shape:', labels_batch.shape)\n",
    "    break"
   ]
  },
  {
   "cell_type": "markdown",
   "metadata": {},
   "source": [
    "Let's fit our model to the data using the generator. We do it using the `fit_generator` method, the equivalent of `fit` for data generators \n",
    "like ours. It expects as first argument a Python generator that will yield batches of inputs and targets indefinitely, like ours does. \n",
    "Because the data is being generated endlessly, the generator needs to know example how many samples to draw from the generator before \n",
    "declaring an epoch over. This is the role of the `steps_per_epoch` argument: after having drawn `steps_per_epoch` batches from the \n",
    "generator, i.e. after having run for `steps_per_epoch` gradient descent steps, the fitting process will go to the next epoch. In our case, \n",
    "batches are 20-sample large, so it will take 100 batches until we see our target of 2000 samples.\n",
    "\n",
    "When using `fit_generator`, one may pass a `validation_data` argument, much like with the `fit` method. Importantly, this argument is \n",
    "allowed to be a data generator itself, but it could be a tuple of Numpy arrays as well. If you pass a generator as `validation_data`, then \n",
    "this generator is expected to yield batches of validation data endlessly, and thus you should also specify the `validation_steps` argument, \n",
    "which tells the process how many batches to draw from the validation generator for evaluation."
   ]
  },
  {
   "cell_type": "code",
   "execution_count": 15,
   "metadata": {
    "collapsed": false
   },
   "outputs": [
    {
     "name": "stdout",
     "output_type": "stream",
     "text": [
      "Epoch 1/30\n",
      "100/100 [==============================] - 14s 144ms/step - loss: 0.6909 - acc: 0.5410 - val_loss: 0.6745 - val_acc: 0.5530\n",
      "Epoch 2/30\n",
      "100/100 [==============================] - 10s 97ms/step - loss: 0.6682 - acc: 0.5845 - val_loss: 0.6674 - val_acc: 0.5780\n",
      "Epoch 3/30\n",
      "100/100 [==============================] - 10s 97ms/step - loss: 0.6367 - acc: 0.6320 - val_loss: 0.6260 - val_acc: 0.6420\n",
      "Epoch 4/30\n",
      "100/100 [==============================] - 10s 97ms/step - loss: 0.5978 - acc: 0.6840 - val_loss: 0.6182 - val_acc: 0.6550\n",
      "Epoch 5/30\n",
      "100/100 [==============================] - 10s 98ms/step - loss: 0.5607 - acc: 0.7100 - val_loss: 0.6023 - val_acc: 0.6710\n",
      "Epoch 6/30\n",
      "100/100 [==============================] - 10s 97ms/step - loss: 0.5262 - acc: 0.7325 - val_loss: 0.6247 - val_acc: 0.6460\n",
      "Epoch 7/30\n",
      "100/100 [==============================] - 10s 98ms/step - loss: 0.4959 - acc: 0.7600 - val_loss: 0.5618 - val_acc: 0.7010\n",
      "Epoch 8/30\n",
      "100/100 [==============================] - 10s 97ms/step - loss: 0.4705 - acc: 0.7700 - val_loss: 0.5648 - val_acc: 0.6960\n",
      "Epoch 9/30\n",
      "100/100 [==============================] - 10s 97ms/step - loss: 0.4467 - acc: 0.7845 - val_loss: 0.5520 - val_acc: 0.7220\n",
      "Epoch 10/30\n",
      "100/100 [==============================] - 10s 96ms/step - loss: 0.4291 - acc: 0.8010 - val_loss: 0.5556 - val_acc: 0.7300\n",
      "Epoch 11/30\n",
      "100/100 [==============================] - 10s 96ms/step - loss: 0.4019 - acc: 0.8145 - val_loss: 0.5497 - val_acc: 0.7290\n",
      "Epoch 12/30\n",
      "100/100 [==============================] - 10s 97ms/step - loss: 0.3801 - acc: 0.8305 - val_loss: 0.5598 - val_acc: 0.7290\n",
      "Epoch 13/30\n",
      "100/100 [==============================] - 10s 96ms/step - loss: 0.3505 - acc: 0.8535 - val_loss: 0.5666 - val_acc: 0.7370\n",
      "Epoch 14/30\n",
      "100/100 [==============================] - 10s 96ms/step - loss: 0.3354 - acc: 0.8560 - val_loss: 0.5494 - val_acc: 0.7470\n",
      "Epoch 15/30\n",
      "100/100 [==============================] - 10s 96ms/step - loss: 0.3125 - acc: 0.8680 - val_loss: 0.5540 - val_acc: 0.7340\n",
      "Epoch 16/30\n",
      "100/100 [==============================] - 10s 96ms/step - loss: 0.2868 - acc: 0.8800 - val_loss: 0.5795 - val_acc: 0.7440\n",
      "Epoch 17/30\n",
      "100/100 [==============================] - 10s 97ms/step - loss: 0.2652 - acc: 0.8890 - val_loss: 0.6770 - val_acc: 0.7100\n",
      "Epoch 18/30\n",
      "100/100 [==============================] - 10s 98ms/step - loss: 0.2535 - acc: 0.9020 - val_loss: 0.5711 - val_acc: 0.7340\n",
      "Epoch 19/30\n",
      "100/100 [==============================] - 10s 98ms/step - loss: 0.2184 - acc: 0.9195 - val_loss: 0.6688 - val_acc: 0.7350\n",
      "Epoch 20/30\n",
      "100/100 [==============================] - 10s 97ms/step - loss: 0.2064 - acc: 0.9230 - val_loss: 0.6034 - val_acc: 0.7400\n",
      "Epoch 21/30\n",
      "100/100 [==============================] - 11s 115ms/step - loss: 0.1780 - acc: 0.9345 - val_loss: 0.6202 - val_acc: 0.7420\n",
      "Epoch 22/30\n",
      "100/100 [==============================] - 11s 113ms/step - loss: 0.1676 - acc: 0.9350 - val_loss: 0.7015 - val_acc: 0.7320\n",
      "Epoch 23/30\n",
      "100/100 [==============================] - 10s 104ms/step - loss: 0.1514 - acc: 0.9505 - val_loss: 0.6309 - val_acc: 0.7420\n",
      "Epoch 24/30\n",
      "100/100 [==============================] - 10s 101ms/step - loss: 0.1296 - acc: 0.9605 - val_loss: 0.7058 - val_acc: 0.7420\n",
      "Epoch 25/30\n",
      "100/100 [==============================] - 11s 106ms/step - loss: 0.1126 - acc: 0.9620 - val_loss: 0.7317 - val_acc: 0.7460\n",
      "Epoch 26/30\n",
      "100/100 [==============================] - 10s 102ms/step - loss: 0.1004 - acc: 0.9700 - val_loss: 0.7734 - val_acc: 0.7340\n",
      "Epoch 27/30\n",
      "100/100 [==============================] - 10s 104ms/step - loss: 0.0897 - acc: 0.9705 - val_loss: 1.0009 - val_acc: 0.7080\n",
      "Epoch 28/30\n",
      "100/100 [==============================] - 12s 115ms/step - loss: 0.0769 - acc: 0.9775 - val_loss: 0.8203 - val_acc: 0.7430\n",
      "Epoch 29/30\n",
      "100/100 [==============================] - 11s 108ms/step - loss: 0.0677 - acc: 0.9790 - val_loss: 0.8730 - val_acc: 0.7330\n",
      "Epoch 30/30\n",
      "100/100 [==============================] - 11s 111ms/step - loss: 0.0565 - acc: 0.9845 - val_loss: 0.8392 - val_acc: 0.7490\n"
     ]
    }
   ],
   "source": [
    "history = model.fit_generator(\n",
    "      train_generator,\n",
    "      steps_per_epoch=100,\n",
    "      epochs=30,\n",
    "      validation_data=validation_generator,\n",
    "      validation_steps=50)"
   ]
  },
  {
   "cell_type": "markdown",
   "metadata": {
    "collapsed": true
   },
   "source": [
    "It is good practice to always save your models after training:"
   ]
  },
  {
   "cell_type": "code",
   "execution_count": 16,
   "metadata": {
    "collapsed": true
   },
   "outputs": [],
   "source": [
    "model.save('cats_and_dogs_small_1.h5')"
   ]
  },
  {
   "cell_type": "markdown",
   "metadata": {},
   "source": [
    "Let's plot the loss and accuracy of the model over the training and validation data during training:"
   ]
  },
  {
   "cell_type": "code",
   "execution_count": 17,
   "metadata": {
    "collapsed": false
   },
   "outputs": [],
   "source": [
    "import matplotlib.pyplot as plt\n",
    "\n",
    "acc = history.history['acc']\n",
    "val_acc = history.history['val_acc']\n",
    "loss = history.history['loss']\n",
    "val_loss = history.history['val_loss']\n",
    "\n",
    "epochs = range(len(acc))\n",
    "\n",
    "plt.plot(epochs, acc, 'bo', label='Training acc')\n",
    "plt.plot(epochs, val_acc, 'b', label='Validation acc')\n",
    "plt.title('Training and validation accuracy')\n",
    "plt.legend()\n",
    "\n",
    "plt.figure()\n",
    "\n",
    "plt.plot(epochs, loss, 'bo', label='Training loss')\n",
    "plt.plot(epochs, val_loss, 'b', label='Validation loss')\n",
    "plt.title('Training and validation loss')\n",
    "plt.legend()\n",
    "\n",
    "plt.show()"
   ]
  },
  {
   "cell_type": "markdown",
   "metadata": {},
   "source": [
    "These plots are characteristic of overfitting. Our training accuracy increases linearly over time, until it reaches nearly 100%, while our \n",
    "validation accuracy stalls at 70-72%. Our validation loss reaches its minimum after only five epochs then stalls, while the training loss \n",
    "keeps decreasing linearly until it reaches nearly 0.\n",
    "\n",
    "Because we only have relatively few training samples (2000), overfitting is going to be our number one concern. You already know about a \n",
    "number of techniques that can help mitigate overfitting, such as dropout and weight decay (L2 regularization). We are now going to \n",
    "introduce a new one, specific to computer vision, and used almost universally when processing images with deep learning models: *data \n",
    "augmentation*."
   ]
  },
  {
   "cell_type": "markdown",
   "metadata": {},
   "source": [
    "## Using data augmentation\n",
    "\n",
    "Overfitting is caused by having too few samples to learn from, rendering us unable to train a model able to generalize to new data. \n",
    "Given infinite data, our model would be exposed to every possible aspect of the data distribution at hand: we would never overfit. Data \n",
    "augmentation takes the approach of generating more training data from existing training samples, by \"augmenting\" the samples via a number \n",
    "of random transformations that yield believable-looking images. The goal is that at training time, our model would never see the exact same \n",
    "picture twice. This helps the model get exposed to more aspects of the data and generalize better.\n",
    "\n",
    "In Keras, this can be done by configuring a number of random transformations to be performed on the images read by our `ImageDataGenerator` \n",
    "instance. Let's get started with an example:"
   ]
  },
  {
   "cell_type": "code",
   "execution_count": 18,
   "metadata": {
    "collapsed": true
   },
   "outputs": [],
   "source": [
    "datagen = ImageDataGenerator(\n",
    "      rotation_range=40,\n",
    "      width_shift_range=0.2,\n",
    "      height_shift_range=0.2,\n",
    "      shear_range=0.2,\n",
    "      zoom_range=0.2,\n",
    "      horizontal_flip=True,\n",
    "      fill_mode='nearest')"
   ]
  },
  {
   "cell_type": "markdown",
   "metadata": {},
   "source": [
    "These are just a few of the options available (for more, see the Keras documentation). Let's quickly go over what we just wrote:\n",
    "\n",
    "* `rotation_range` is a value in degrees (0-180), a range within which to randomly rotate pictures.\n",
    "* `width_shift` and `height_shift` are ranges (as a fraction of total width or height) within which to randomly translate pictures \n",
    "vertically or horizontally.\n",
    "* `shear_range` is for randomly applying shearing transformations.\n",
    "* `zoom_range` is for randomly zooming inside pictures.\n",
    "* `horizontal_flip` is for randomly flipping half of the images horizontally -- relevant when there are no assumptions of horizontal \n",
    "asymmetry (e.g. real-world pictures).\n",
    "* `fill_mode` is the strategy used for filling in newly created pixels, which can appear after a rotation or a width/height shift.\n",
    "\n",
    "Let's take a look at our augmented images:"
   ]
  },
  {
   "cell_type": "code",
   "execution_count": 19,
   "metadata": {
    "collapsed": false
   },
   "outputs": [],
   "source": [
    "# This is module with image preprocessing utilities\n",
    "from keras.preprocessing import image\n",
    "\n",
    "fnames = [os.path.join(train_cats_dir, fname) for fname in os.listdir(train_cats_dir)]\n",
    "\n",
    "# We pick one image to \"augment\"\n",
    "img_path = fnames[3]\n",
    "\n",
    "# Read the image and resize it\n",
    "img = image.load_img(img_path, target_size=(150, 150))\n",
    "\n",
    "# Convert it to a Numpy array with shape (150, 150, 3)\n",
    "x = image.img_to_array(img)\n",
    "\n",
    "# Reshape it to (1, 150, 150, 3)\n",
    "x = x.reshape((1,) + x.shape)\n",
    "\n",
    "# The .flow() command below generates batches of randomly transformed images.\n",
    "# It will loop indefinitely, so we need to `break` the loop at some point!\n",
    "i = 0\n",
    "for batch in datagen.flow(x, batch_size=1):\n",
    "    plt.figure(i)\n",
    "    imgplot = plt.imshow(image.array_to_img(batch[0]))\n",
    "    i += 1\n",
    "    if i % 4 == 0:\n",
    "        break\n",
    "\n",
    "plt.show()"
   ]
  },
  {
   "cell_type": "markdown",
   "metadata": {},
   "source": [
    "If we train a new network using this data augmentation configuration, our network will never see twice the same input. However, the inputs \n",
    "that it sees are still heavily intercorrelated, since they come from a small number of original images -- we cannot produce new information, \n",
    "we can only remix existing information. As such, this might not be quite enough to completely get rid of overfitting. To further fight \n",
    "overfitting, we will also add a Dropout layer to our model, right before the densely-connected classifier:"
   ]
  },
  {
   "cell_type": "code",
   "execution_count": 20,
   "metadata": {
    "collapsed": true
   },
   "outputs": [],
   "source": [
    "model = models.Sequential()\n",
    "model.add(layers.Conv2D(32, (3, 3), activation='relu',\n",
    "                        input_shape=(150, 150, 3)))\n",
    "model.add(layers.MaxPooling2D((2, 2)))\n",
    "model.add(layers.Conv2D(64, (3, 3), activation='relu'))\n",
    "model.add(layers.MaxPooling2D((2, 2)))\n",
    "model.add(layers.Conv2D(128, (3, 3), activation='relu'))\n",
    "model.add(layers.MaxPooling2D((2, 2)))\n",
    "model.add(layers.Conv2D(128, (3, 3), activation='relu'))\n",
    "model.add(layers.MaxPooling2D((2, 2)))\n",
    "model.add(layers.Flatten())\n",
    "model.add(layers.Dropout(0.5))\n",
    "model.add(layers.Dense(512, activation='relu'))\n",
    "model.add(layers.Dense(1, activation='sigmoid'))\n",
    "\n",
    "model.compile(loss='binary_crossentropy',\n",
    "              optimizer=optimizers.RMSprop(lr=1e-4),\n",
    "              metrics=['acc'])"
   ]
  },
  {
   "cell_type": "markdown",
   "metadata": {},
   "source": [
    "Let's train our network using data augmentation and dropout:"
   ]
  },
  {
   "cell_type": "code",
   "execution_count": 21,
   "metadata": {
    "collapsed": false
   },
   "outputs": [
    {
     "name": "stdout",
     "output_type": "stream",
     "text": [
      "Found 2000 images belonging to 2 classes.\n",
      "Found 1000 images belonging to 2 classes.\n",
      "Epoch 1/100\n",
      "100/100 [==============================] - 93s 926ms/step - loss: 0.6871 - acc: 0.5369 - val_loss: 0.6884 - val_acc: 0.5235\n",
      "Epoch 2/100\n",
      "100/100 [==============================] - 61s 609ms/step - loss: 0.6722 - acc: 0.5922 - val_loss: 0.6407 - val_acc: 0.6289\n",
      "Epoch 3/100\n",
      "100/100 [==============================] - 67s 673ms/step - loss: 0.6561 - acc: 0.6122 - val_loss: 0.6766 - val_acc: 0.5736\n",
      "Epoch 4/100\n",
      "100/100 [==============================] - 76s 760ms/step - loss: 0.6394 - acc: 0.6316 - val_loss: 0.6212 - val_acc: 0.6398\n",
      "Epoch 5/100\n",
      "100/100 [==============================] - 75s 747ms/step - loss: 0.6194 - acc: 0.6559 - val_loss: 0.6456 - val_acc: 0.6098\n",
      "Epoch 6/100\n",
      "100/100 [==============================] - 71s 711ms/step - loss: 0.6061 - acc: 0.6669 - val_loss: 0.6091 - val_acc: 0.6501\n",
      "Epoch 7/100\n",
      "100/100 [==============================] - 79s 794ms/step - loss: 0.5988 - acc: 0.6734 - val_loss: 0.5681 - val_acc: 0.6897\n",
      "Epoch 8/100\n",
      "100/100 [==============================] - 69s 686ms/step - loss: 0.5932 - acc: 0.6809 - val_loss: 0.5518 - val_acc: 0.7152\n",
      "Epoch 9/100\n",
      "100/100 [==============================] - 61s 614ms/step - loss: 0.5728 - acc: 0.6925 - val_loss: 0.5715 - val_acc: 0.6901\n",
      "Epoch 10/100\n",
      "100/100 [==============================] - 58s 583ms/step - loss: 0.5796 - acc: 0.6900 - val_loss: 0.5625 - val_acc: 0.7011\n",
      "Epoch 11/100\n",
      "100/100 [==============================] - 59s 586ms/step - loss: 0.5624 - acc: 0.7081 - val_loss: 0.5546 - val_acc: 0.7075\n",
      "Epoch 12/100\n",
      "100/100 [==============================] - 59s 588ms/step - loss: 0.5720 - acc: 0.6981 - val_loss: 0.5537 - val_acc: 0.6980\n",
      "Epoch 13/100\n",
      "100/100 [==============================] - 58s 584ms/step - loss: 0.5582 - acc: 0.7063 - val_loss: 0.5401 - val_acc: 0.7171\n",
      "Epoch 14/100\n",
      "100/100 [==============================] - 60s 597ms/step - loss: 0.5616 - acc: 0.7128 - val_loss: 0.5605 - val_acc: 0.7094\n",
      "Epoch 15/100\n",
      "100/100 [==============================] - 56s 561ms/step - loss: 0.5460 - acc: 0.7203 - val_loss: 0.5319 - val_acc: 0.7326\n",
      "Epoch 16/100\n",
      "100/100 [==============================] - 55s 545ms/step - loss: 0.5337 - acc: 0.7291 - val_loss: 0.5843 - val_acc: 0.6778\n",
      "Epoch 17/100\n",
      "100/100 [==============================] - 55s 551ms/step - loss: 0.5446 - acc: 0.7175 - val_loss: 0.5186 - val_acc: 0.7322\n",
      "Epoch 18/100\n",
      "100/100 [==============================] - 55s 548ms/step - loss: 0.5316 - acc: 0.7322 - val_loss: 0.5128 - val_acc: 0.7461\n",
      "Epoch 19/100\n",
      "100/100 [==============================] - 55s 547ms/step - loss: 0.5235 - acc: 0.7394 - val_loss: 0.5274 - val_acc: 0.7284\n",
      "Epoch 20/100\n",
      "100/100 [==============================] - 54s 545ms/step - loss: 0.5131 - acc: 0.7397 - val_loss: 0.5090 - val_acc: 0.7468\n",
      "Epoch 21/100\n",
      "100/100 [==============================] - 55s 551ms/step - loss: 0.5214 - acc: 0.7381 - val_loss: 0.4943 - val_acc: 0.7506\n",
      "Epoch 22/100\n",
      "100/100 [==============================] - 56s 556ms/step - loss: 0.5269 - acc: 0.7313 - val_loss: 0.5100 - val_acc: 0.7487\n",
      "Epoch 23/100\n",
      "100/100 [==============================] - 58s 585ms/step - loss: 0.5037 - acc: 0.7544 - val_loss: 0.5165 - val_acc: 0.7329\n",
      "Epoch 24/100\n",
      "100/100 [==============================] - 59s 591ms/step - loss: 0.5079 - acc: 0.7484 - val_loss: 0.4883 - val_acc: 0.7584\n",
      "Epoch 25/100\n",
      "100/100 [==============================] - 59s 590ms/step - loss: 0.5004 - acc: 0.7516 - val_loss: 0.4715 - val_acc: 0.7719\n",
      "Epoch 26/100\n",
      "100/100 [==============================] - 59s 586ms/step - loss: 0.4972 - acc: 0.7534 - val_loss: 0.4809 - val_acc: 0.7640\n",
      "Epoch 27/100\n",
      "100/100 [==============================] - 60s 600ms/step - loss: 0.5052 - acc: 0.7575 - val_loss: 0.5025 - val_acc: 0.7526\n",
      "Epoch 28/100\n",
      "100/100 [==============================] - 60s 598ms/step - loss: 0.4907 - acc: 0.7581 - val_loss: 0.4955 - val_acc: 0.7671\n",
      "Epoch 29/100\n",
      "100/100 [==============================] - 58s 583ms/step - loss: 0.4891 - acc: 0.7578 - val_loss: 0.4866 - val_acc: 0.7693\n",
      "Epoch 30/100\n",
      "100/100 [==============================] - 59s 587ms/step - loss: 0.4779 - acc: 0.7634 - val_loss: 0.5127 - val_acc: 0.7373\n",
      "Epoch 31/100\n",
      "100/100 [==============================] - 60s 599ms/step - loss: 0.4869 - acc: 0.7603 - val_loss: 0.4921 - val_acc: 0.7635\n",
      "Epoch 32/100\n",
      "100/100 [==============================] - 67s 673ms/step - loss: 0.4803 - acc: 0.7666 - val_loss: 0.4593 - val_acc: 0.7880\n",
      "Epoch 33/100\n",
      "100/100 [==============================] - 76s 757ms/step - loss: 0.4788 - acc: 0.7706 - val_loss: 0.4959 - val_acc: 0.7621\n",
      "Epoch 34/100\n",
      "100/100 [==============================] - 65s 648ms/step - loss: 0.4651 - acc: 0.7753 - val_loss: 0.4794 - val_acc: 0.7803\n",
      "Epoch 35/100\n",
      "100/100 [==============================] - 72s 722ms/step - loss: 0.4610 - acc: 0.7753 - val_loss: 0.5653 - val_acc: 0.7405\n",
      "Epoch 36/100\n",
      "100/100 [==============================] - 59s 592ms/step - loss: 0.4756 - acc: 0.7703 - val_loss: 0.5058 - val_acc: 0.7384\n",
      "Epoch 37/100\n",
      "100/100 [==============================] - 58s 582ms/step - loss: 0.4573 - acc: 0.7775 - val_loss: 0.4862 - val_acc: 0.7640\n",
      "Epoch 38/100\n",
      "100/100 [==============================] - 58s 578ms/step - loss: 0.4700 - acc: 0.7766 - val_loss: 0.4853 - val_acc: 0.7661\n",
      "Epoch 39/100\n",
      "100/100 [==============================] - 57s 568ms/step - loss: 0.4546 - acc: 0.7800 - val_loss: 0.4287 - val_acc: 0.8039\n",
      "Epoch 40/100\n",
      "100/100 [==============================] - 59s 589ms/step - loss: 0.4662 - acc: 0.7784 - val_loss: 0.5214 - val_acc: 0.7545\n",
      "Epoch 41/100\n",
      "100/100 [==============================] - 59s 590ms/step - loss: 0.4484 - acc: 0.7866 - val_loss: 0.4684 - val_acc: 0.7719\n",
      "Epoch 42/100\n",
      "100/100 [==============================] - 58s 584ms/step - loss: 0.4495 - acc: 0.7841 - val_loss: 0.4446 - val_acc: 0.7970\n",
      "Epoch 43/100\n",
      "100/100 [==============================] - 57s 569ms/step - loss: 0.4559 - acc: 0.7909 - val_loss: 0.4592 - val_acc: 0.8048\n",
      "Epoch 44/100\n",
      "100/100 [==============================] - 59s 595ms/step - loss: 0.4416 - acc: 0.7916 - val_loss: 0.4543 - val_acc: 0.7805\n",
      "Epoch 45/100\n",
      "100/100 [==============================] - 60s 596ms/step - loss: 0.4475 - acc: 0.7885 - val_loss: 0.4388 - val_acc: 0.7932\n",
      "Epoch 46/100\n",
      "100/100 [==============================] - 59s 594ms/step - loss: 0.4280 - acc: 0.7969 - val_loss: 0.5132 - val_acc: 0.7608\n",
      "Epoch 47/100\n",
      "100/100 [==============================] - 56s 563ms/step - loss: 0.4469 - acc: 0.7816 - val_loss: 0.4539 - val_acc: 0.7899\n",
      "Epoch 48/100\n",
      "100/100 [==============================] - 58s 582ms/step - loss: 0.4284 - acc: 0.8006 - val_loss: 0.4460 - val_acc: 0.7977\n",
      "Epoch 49/100\n",
      "100/100 [==============================] - 58s 577ms/step - loss: 0.4301 - acc: 0.7953 - val_loss: 0.4402 - val_acc: 0.7951\n",
      "Epoch 50/100\n",
      "100/100 [==============================] - 57s 571ms/step - loss: 0.4328 - acc: 0.7991 - val_loss: 0.4189 - val_acc: 0.8067\n",
      "Epoch 51/100\n",
      "100/100 [==============================] - 61s 606ms/step - loss: 0.4126 - acc: 0.8016 - val_loss: 0.4329 - val_acc: 0.8001\n",
      "Epoch 52/100\n",
      "100/100 [==============================] - 34s 344ms/step - loss: 0.4149 - acc: 0.8125 - val_loss: 0.4403 - val_acc: 0.8073\n",
      "Epoch 53/100\n",
      "100/100 [==============================] - 34s 337ms/step - loss: 0.4161 - acc: 0.8072 - val_loss: 0.5101 - val_acc: 0.7621\n",
      "Epoch 54/100\n",
      "100/100 [==============================] - 37s 371ms/step - loss: 0.4138 - acc: 0.8059 - val_loss: 0.4413 - val_acc: 0.7964\n",
      "Epoch 55/100\n",
      "100/100 [==============================] - 37s 365ms/step - loss: 0.4086 - acc: 0.8084 - val_loss: 0.4361 - val_acc: 0.8115\n",
      "Epoch 56/100\n",
      "100/100 [==============================] - 39s 391ms/step - loss: 0.4127 - acc: 0.8131 - val_loss: 0.4230 - val_acc: 0.8119\n",
      "Epoch 57/100\n",
      "100/100 [==============================] - 36s 356ms/step - loss: 0.4069 - acc: 0.8131 - val_loss: 0.5174 - val_acc: 0.7448\n",
      "Epoch 58/100\n",
      "100/100 [==============================] - 35s 354ms/step - loss: 0.4149 - acc: 0.8025 - val_loss: 0.4224 - val_acc: 0.8173\n",
      "Epoch 59/100\n",
      "100/100 [==============================] - 36s 356ms/step - loss: 0.4040 - acc: 0.8128 - val_loss: 0.4283 - val_acc: 0.8202\n",
      "Epoch 60/100\n",
      "100/100 [==============================] - 34s 340ms/step - loss: 0.4005 - acc: 0.8219 - val_loss: 0.4520 - val_acc: 0.7893\n",
      "Epoch 61/100\n",
      "100/100 [==============================] - 34s 337ms/step - loss: 0.4061 - acc: 0.8153 - val_loss: 0.4294 - val_acc: 0.8099\n",
      "Epoch 62/100\n",
      "100/100 [==============================] - 36s 361ms/step - loss: 0.3996 - acc: 0.8141 - val_loss: 0.4431 - val_acc: 0.7976\n",
      "Epoch 63/100\n",
      "100/100 [==============================] - 35s 347ms/step - loss: 0.4015 - acc: 0.8175 - val_loss: 0.4046 - val_acc: 0.8293\n",
      "Epoch 64/100\n",
      "100/100 [==============================] - 36s 363ms/step - loss: 0.3922 - acc: 0.8250 - val_loss: 0.4299 - val_acc: 0.8054\n",
      "Epoch 65/100\n",
      "100/100 [==============================] - 34s 342ms/step - loss: 0.3941 - acc: 0.8200 - val_loss: 0.4296 - val_acc: 0.7900\n",
      "Epoch 66/100\n",
      "100/100 [==============================] - 33s 334ms/step - loss: 0.3774 - acc: 0.8366 - val_loss: 0.4638 - val_acc: 0.7899\n",
      "Epoch 67/100\n",
      "100/100 [==============================] - 33s 335ms/step - loss: 0.3842 - acc: 0.8219 - val_loss: 0.4402 - val_acc: 0.8052\n",
      "Epoch 68/100\n",
      "100/100 [==============================] - 34s 340ms/step - loss: 0.3842 - acc: 0.8234 - val_loss: 0.4119 - val_acc: 0.8170\n",
      "Epoch 69/100\n",
      "100/100 [==============================] - 34s 336ms/step - loss: 0.3890 - acc: 0.8181 - val_loss: 0.4057 - val_acc: 0.8230\n",
      "Epoch 70/100\n",
      "100/100 [==============================] - 34s 342ms/step - loss: 0.3961 - acc: 0.8097 - val_loss: 0.4684 - val_acc: 0.8144\n",
      "Epoch 71/100\n",
      "100/100 [==============================] - 34s 338ms/step - loss: 0.3841 - acc: 0.8191 - val_loss: 0.4657 - val_acc: 0.7893\n",
      "Epoch 72/100\n",
      "100/100 [==============================] - 34s 337ms/step - loss: 0.3603 - acc: 0.8419 - val_loss: 0.4243 - val_acc: 0.8241\n",
      "Epoch 73/100\n",
      "100/100 [==============================] - 34s 336ms/step - loss: 0.3780 - acc: 0.8297 - val_loss: 0.4704 - val_acc: 0.8022\n",
      "Epoch 74/100\n",
      "100/100 [==============================] - 34s 335ms/step - loss: 0.3788 - acc: 0.8322 - val_loss: 0.4087 - val_acc: 0.8192\n",
      "Epoch 75/100\n",
      "100/100 [==============================] - 33s 334ms/step - loss: 0.3844 - acc: 0.8212 - val_loss: 0.4008 - val_acc: 0.8241\n",
      "Epoch 76/100\n",
      "100/100 [==============================] - 36s 360ms/step - loss: 0.3724 - acc: 0.8331 - val_loss: 0.4336 - val_acc: 0.8280\n",
      "Epoch 77/100\n",
      "100/100 [==============================] - 37s 366ms/step - loss: 0.3548 - acc: 0.8416 - val_loss: 0.4130 - val_acc: 0.8170\n",
      "Epoch 78/100\n",
      "100/100 [==============================] - 36s 357ms/step - loss: 0.3612 - acc: 0.8419 - val_loss: 0.4626 - val_acc: 0.7989\n",
      "Epoch 79/100\n",
      "100/100 [==============================] - 35s 346ms/step - loss: 0.3600 - acc: 0.8363 - val_loss: 0.4032 - val_acc: 0.8318\n",
      "Epoch 80/100\n",
      "100/100 [==============================] - 37s 370ms/step - loss: 0.3621 - acc: 0.8369 - val_loss: 0.4108 - val_acc: 0.8235\n",
      "Epoch 81/100\n",
      "100/100 [==============================] - 37s 373ms/step - loss: 0.3650 - acc: 0.8344 - val_loss: 0.4110 - val_acc: 0.8293\n",
      "Epoch 82/100\n",
      "100/100 [==============================] - 36s 363ms/step - loss: 0.3442 - acc: 0.8431 - val_loss: 0.4411 - val_acc: 0.8138\n",
      "Epoch 83/100\n",
      "100/100 [==============================] - 35s 351ms/step - loss: 0.3569 - acc: 0.8441 - val_loss: 0.4115 - val_acc: 0.8217\n",
      "Epoch 84/100\n",
      "100/100 [==============================] - 35s 350ms/step - loss: 0.3627 - acc: 0.8409 - val_loss: 0.4136 - val_acc: 0.8299\n",
      "Epoch 85/100\n",
      "100/100 [==============================] - 35s 346ms/step - loss: 0.3534 - acc: 0.8475 - val_loss: 0.4205 - val_acc: 0.8280\n",
      "Epoch 86/100\n",
      "100/100 [==============================] - 36s 359ms/step - loss: 0.3467 - acc: 0.8500 - val_loss: 0.4106 - val_acc: 0.8209\n",
      "Epoch 87/100\n",
      "100/100 [==============================] - 37s 366ms/step - loss: 0.3571 - acc: 0.8369 - val_loss: 0.4442 - val_acc: 0.8242\n",
      "Epoch 88/100\n",
      "100/100 [==============================] - 36s 364ms/step - loss: 0.3632 - acc: 0.8378 - val_loss: 0.3770 - val_acc: 0.8376\n",
      "Epoch 89/100\n",
      "100/100 [==============================] - 35s 350ms/step - loss: 0.3246 - acc: 0.8497 - val_loss: 0.4460 - val_acc: 0.8138\n",
      "Epoch 90/100\n",
      "100/100 [==============================] - 35s 346ms/step - loss: 0.3399 - acc: 0.8434 - val_loss: 0.4661 - val_acc: 0.7912\n",
      "Epoch 91/100\n",
      "100/100 [==============================] - 35s 348ms/step - loss: 0.3438 - acc: 0.8456 - val_loss: 0.5439 - val_acc: 0.7919\n",
      "Epoch 92/100\n",
      "100/100 [==============================] - 35s 355ms/step - loss: 0.3326 - acc: 0.8528 - val_loss: 0.4110 - val_acc: 0.8287\n",
      "Epoch 93/100\n",
      "100/100 [==============================] - 37s 371ms/step - loss: 0.3424 - acc: 0.8512 - val_loss: 0.4074 - val_acc: 0.8215\n",
      "Epoch 94/100\n",
      "100/100 [==============================] - 35s 345ms/step - loss: 0.3297 - acc: 0.8578 - val_loss: 0.4936 - val_acc: 0.7963\n",
      "Epoch 95/100\n",
      "100/100 [==============================] - 34s 335ms/step - loss: 0.3427 - acc: 0.8466 - val_loss: 0.3931 - val_acc: 0.8286\n",
      "Epoch 96/100\n",
      "100/100 [==============================] - 34s 336ms/step - loss: 0.3321 - acc: 0.8553 - val_loss: 0.5015 - val_acc: 0.8003\n",
      "Epoch 97/100\n",
      "100/100 [==============================] - 34s 338ms/step - loss: 0.3285 - acc: 0.8528 - val_loss: 0.3871 - val_acc: 0.8312\n",
      "Epoch 98/100\n",
      "100/100 [==============================] - 34s 341ms/step - loss: 0.3157 - acc: 0.8591 - val_loss: 0.4038 - val_acc: 0.8286\n",
      "Epoch 99/100\n",
      "100/100 [==============================] - 33s 330ms/step - loss: 0.3155 - acc: 0.8631 - val_loss: 0.4453 - val_acc: 0.8020\n",
      "Epoch 100/100\n",
      "100/100 [==============================] - 33s 325ms/step - loss: 0.3130 - acc: 0.8609 - val_loss: 0.3792 - val_acc: 0.8428\n"
     ]
    }
   ],
   "source": [
    "train_datagen = ImageDataGenerator(\n",
    "    rescale=1./255,\n",
    "    rotation_range=40,\n",
    "    width_shift_range=0.2,\n",
    "    height_shift_range=0.2,\n",
    "    shear_range=0.2,\n",
    "    zoom_range=0.2,\n",
    "    horizontal_flip=True,)\n",
    "\n",
    "# Note that the validation data should not be augmented!\n",
    "test_datagen = ImageDataGenerator(rescale=1./255)\n",
    "\n",
    "train_generator = train_datagen.flow_from_directory(\n",
    "        # This is the target directory\n",
    "        train_dir,\n",
    "        # All images will be resized to 150x150\n",
    "        target_size=(150, 150),\n",
    "        batch_size=32,\n",
    "        # Since we use binary_crossentropy loss, we need binary labels\n",
    "        class_mode='binary')\n",
    "\n",
    "validation_generator = test_datagen.flow_from_directory(\n",
    "        validation_dir,\n",
    "        target_size=(150, 150),\n",
    "        batch_size=32,\n",
    "        class_mode='binary')\n",
    "\n",
    "history = model.fit_generator(\n",
    "      train_generator,\n",
    "      steps_per_epoch=100,\n",
    "      epochs=100,\n",
    "      validation_data=validation_generator,\n",
    "      validation_steps=50)"
   ]
  },
  {
   "cell_type": "markdown",
   "metadata": {},
   "source": [
    "Let's save our model -- we will be using it in the section on convnet visualization."
   ]
  },
  {
   "cell_type": "code",
   "execution_count": 22,
   "metadata": {
    "collapsed": true
   },
   "outputs": [],
   "source": [
    "model.save('cats_and_dogs_small_2.h5')"
   ]
  },
  {
   "cell_type": "markdown",
   "metadata": {},
   "source": [
    "Let's plot our results again:"
   ]
  },
  {
   "cell_type": "code",
   "execution_count": 24,
   "metadata": {
    "collapsed": false
   },
   "outputs": [],
   "source": [
    "acc = history.history['acc']\n",
    "val_acc = history.history['val_acc']\n",
    "loss = history.history['loss']\n",
    "val_loss = history.history['val_loss']\n",
    "\n",
    "epochs = range(len(acc))\n",
    "\n",
    "plt.plot(epochs, acc, 'bo', label='Training acc')\n",
    "plt.plot(epochs, val_acc, 'b', label='Validation acc')\n",
    "plt.title('Training and validation accuracy')\n",
    "plt.legend()\n",
    "\n",
    "plt.figure()\n",
    "\n",
    "plt.plot(epochs, loss, 'bo', label='Training loss')\n",
    "plt.plot(epochs, val_loss, 'b', label='Validation loss')\n",
    "plt.title('Training and validation loss')\n",
    "plt.legend()\n",
    "\n",
    "plt.show()"
   ]
  },
  {
   "cell_type": "markdown",
   "metadata": {},
   "source": [
    "Thanks to data augmentation and dropout, we are no longer overfitting: the training curves are rather closely tracking the validation \n",
    "curves. We are now able to reach an accuracy of 82%, a 15% relative improvement over the non-regularized model.\n",
    "\n",
    "By leveraging regularization techniques even further and by tuning the network's parameters (such as the number of filters per convolution \n",
    "layer, or the number of layers in the network), we may be able to get an even better accuracy, likely up to 86-87%. However, it would prove \n",
    "very difficult to go any higher just by training our own convnet from scratch, simply because we have so little data to work with. As a \n",
    "next step to improve our accuracy on this problem, we will have to leverage a pre-trained model, which will be the focus of the next two \n",
    "sections."
   ]
  }
 ],
 "metadata": {
  "anaconda-cloud": {},
  "kernelspec": {
   "display_name": "Python [Root]",
   "language": "python",
   "name": "Python [Root]"
  },
  "language_info": {
   "codemirror_mode": {
    "name": "ipython",
    "version": 3
   },
   "file_extension": ".py",
   "mimetype": "text/x-python",
   "name": "python",
   "nbconvert_exporter": "python",
   "pygments_lexer": "ipython3",
   "version": "3.5.2"
  }
 },
 "nbformat": 4,
 "nbformat_minor": 2
}
